{
  "cells": [
    {
      "cell_type": "markdown",
      "metadata": {
        "id": "view-in-github",
        "colab_type": "text"
      },
      "source": [
        "<a href=\"https://colab.research.google.com/github/Brilliantkiptoo/AdvMLA-Kaggle-competion-assingment/blob/main/notebook/_Kiptoo___Brilliant___24699314_week_week_2___logistic_random_forest.ipynb\" target=\"_parent\"><img src=\"https://colab.research.google.com/assets/colab-badge.svg\" alt=\"Open In Colab\"/></a>"
      ]
    },
    {
      "cell_type": "markdown",
      "source": [
        "#Logistic regression model"
      ],
      "metadata": {
        "id": "_14wxBAW_wDG"
      }
    },
    {
      "cell_type": "code",
      "source": [
        "!pip install poetry"
      ],
      "metadata": {
        "colab": {
          "base_uri": "https://localhost:8080/"
        },
        "id": "IcJWiCi9r3ep",
        "outputId": "b4130893-4320-4249-b1c6-f5e4e1730451"
      },
      "execution_count": 20,
      "outputs": [
        {
          "output_type": "stream",
          "name": "stdout",
          "text": [
            "Requirement already satisfied: poetry in /usr/local/lib/python3.10/dist-packages (1.6.1)\n",
            "Requirement already satisfied: build<0.11.0,>=0.10.0 in /usr/local/lib/python3.10/dist-packages (from poetry) (0.10.0)\n",
            "Requirement already satisfied: cachecontrol[filecache]<0.14.0,>=0.13.0 in /usr/local/lib/python3.10/dist-packages (from poetry) (0.13.1)\n",
            "Requirement already satisfied: cleo<3.0.0,>=2.0.0 in /usr/local/lib/python3.10/dist-packages (from poetry) (2.0.1)\n",
            "Requirement already satisfied: crashtest<0.5.0,>=0.4.1 in /usr/local/lib/python3.10/dist-packages (from poetry) (0.4.1)\n",
            "Requirement already satisfied: dulwich<0.22.0,>=0.21.2 in /usr/local/lib/python3.10/dist-packages (from poetry) (0.21.5)\n",
            "Requirement already satisfied: installer<0.8.0,>=0.7.0 in /usr/local/lib/python3.10/dist-packages (from poetry) (0.7.0)\n",
            "Requirement already satisfied: jsonschema<4.18.0,>=4.10.0 in /usr/local/lib/python3.10/dist-packages (from poetry) (4.17.3)\n",
            "Requirement already satisfied: keyring<25.0.0,>=24.0.0 in /usr/local/lib/python3.10/dist-packages (from poetry) (24.2.0)\n",
            "Requirement already satisfied: packaging>=20.4 in /usr/local/lib/python3.10/dist-packages (from poetry) (23.1)\n",
            "Requirement already satisfied: pexpect<5.0.0,>=4.7.0 in /usr/local/lib/python3.10/dist-packages (from poetry) (4.8.0)\n",
            "Requirement already satisfied: pkginfo<2.0.0,>=1.9.4 in /usr/local/lib/python3.10/dist-packages (from poetry) (1.9.6)\n",
            "Requirement already satisfied: platformdirs<4.0.0,>=3.0.0 in /usr/local/lib/python3.10/dist-packages (from poetry) (3.10.0)\n",
            "Requirement already satisfied: poetry-core==1.7.0 in /usr/local/lib/python3.10/dist-packages (from poetry) (1.7.0)\n",
            "Requirement already satisfied: poetry-plugin-export<2.0.0,>=1.5.0 in /usr/local/lib/python3.10/dist-packages (from poetry) (1.5.0)\n",
            "Requirement already satisfied: pyproject-hooks<2.0.0,>=1.0.0 in /usr/local/lib/python3.10/dist-packages (from poetry) (1.0.0)\n",
            "Requirement already satisfied: requests<3.0,>=2.26 in /usr/local/lib/python3.10/dist-packages (from poetry) (2.31.0)\n",
            "Requirement already satisfied: requests-toolbelt<2,>=0.9.1 in /usr/local/lib/python3.10/dist-packages (from poetry) (1.0.0)\n",
            "Requirement already satisfied: shellingham<2.0,>=1.5 in /usr/local/lib/python3.10/dist-packages (from poetry) (1.5.3)\n",
            "Requirement already satisfied: tomli<3.0.0,>=2.0.1 in /usr/local/lib/python3.10/dist-packages (from poetry) (2.0.1)\n",
            "Requirement already satisfied: tomlkit<1.0.0,>=0.11.4 in /usr/local/lib/python3.10/dist-packages (from poetry) (0.12.1)\n",
            "Requirement already satisfied: trove-classifiers>=2022.5.19 in /usr/local/lib/python3.10/dist-packages (from poetry) (2023.8.7)\n",
            "Requirement already satisfied: virtualenv<21.0.0,>=20.22.0 in /usr/local/lib/python3.10/dist-packages (from poetry) (20.24.3)\n",
            "Requirement already satisfied: msgpack>=0.5.2 in /usr/local/lib/python3.10/dist-packages (from cachecontrol[filecache]<0.14.0,>=0.13.0->poetry) (1.0.5)\n",
            "Requirement already satisfied: filelock>=3.8.0 in /usr/local/lib/python3.10/dist-packages (from cachecontrol[filecache]<0.14.0,>=0.13.0->poetry) (3.12.2)\n",
            "Requirement already satisfied: rapidfuzz<3.0.0,>=2.2.0 in /usr/local/lib/python3.10/dist-packages (from cleo<3.0.0,>=2.0.0->poetry) (2.15.1)\n",
            "Requirement already satisfied: urllib3>=1.25 in /usr/local/lib/python3.10/dist-packages (from dulwich<0.22.0,>=0.21.2->poetry) (2.0.4)\n",
            "Requirement already satisfied: attrs>=17.4.0 in /usr/local/lib/python3.10/dist-packages (from jsonschema<4.18.0,>=4.10.0->poetry) (23.1.0)\n",
            "Requirement already satisfied: pyrsistent!=0.17.0,!=0.17.1,!=0.17.2,>=0.14.0 in /usr/local/lib/python3.10/dist-packages (from jsonschema<4.18.0,>=4.10.0->poetry) (0.19.3)\n",
            "Requirement already satisfied: jaraco.classes in /usr/local/lib/python3.10/dist-packages (from keyring<25.0.0,>=24.0.0->poetry) (3.3.0)\n",
            "Requirement already satisfied: importlib-metadata>=4.11.4 in /usr/local/lib/python3.10/dist-packages (from keyring<25.0.0,>=24.0.0->poetry) (6.8.0)\n",
            "Requirement already satisfied: SecretStorage>=3.2 in /usr/lib/python3/dist-packages (from keyring<25.0.0,>=24.0.0->poetry) (3.3.1)\n",
            "Requirement already satisfied: jeepney>=0.4.2 in /usr/lib/python3/dist-packages (from keyring<25.0.0,>=24.0.0->poetry) (0.7.1)\n",
            "Requirement already satisfied: ptyprocess>=0.5 in /usr/local/lib/python3.10/dist-packages (from pexpect<5.0.0,>=4.7.0->poetry) (0.7.0)\n",
            "Requirement already satisfied: charset-normalizer<4,>=2 in /usr/local/lib/python3.10/dist-packages (from requests<3.0,>=2.26->poetry) (3.2.0)\n",
            "Requirement already satisfied: idna<4,>=2.5 in /usr/local/lib/python3.10/dist-packages (from requests<3.0,>=2.26->poetry) (3.4)\n",
            "Requirement already satisfied: certifi>=2017.4.17 in /usr/local/lib/python3.10/dist-packages (from requests<3.0,>=2.26->poetry) (2023.7.22)\n",
            "Requirement already satisfied: distlib<1,>=0.3.7 in /usr/local/lib/python3.10/dist-packages (from virtualenv<21.0.0,>=20.22.0->poetry) (0.3.7)\n",
            "Requirement already satisfied: zipp>=0.5 in /usr/local/lib/python3.10/dist-packages (from importlib-metadata>=4.11.4->keyring<25.0.0,>=24.0.0->poetry) (3.16.2)\n",
            "Requirement already satisfied: more-itertools in /usr/local/lib/python3.10/dist-packages (from jaraco.classes->keyring<25.0.0,>=24.0.0->poetry) (10.1.0)\n"
          ]
        }
      ]
    },
    {
      "cell_type": "code",
      "source": [
        "!pip install cookiecutter"
      ],
      "metadata": {
        "colab": {
          "base_uri": "https://localhost:8080/"
        },
        "id": "bmV2sWsAsRhO",
        "outputId": "3895ed11-86a3-46e0-ac16-612870f9e5b6"
      },
      "execution_count": 21,
      "outputs": [
        {
          "output_type": "stream",
          "name": "stdout",
          "text": [
            "Requirement already satisfied: cookiecutter in /usr/local/lib/python3.10/dist-packages (2.3.0)\n",
            "Requirement already satisfied: binaryornot>=0.4.4 in /usr/local/lib/python3.10/dist-packages (from cookiecutter) (0.4.4)\n",
            "Requirement already satisfied: Jinja2<4.0.0,>=2.7 in /usr/local/lib/python3.10/dist-packages (from cookiecutter) (3.1.2)\n",
            "Requirement already satisfied: click<9.0.0,>=7.0 in /usr/local/lib/python3.10/dist-packages (from cookiecutter) (8.1.7)\n",
            "Requirement already satisfied: pyyaml>=5.3.1 in /usr/local/lib/python3.10/dist-packages (from cookiecutter) (6.0.1)\n",
            "Requirement already satisfied: python-slugify>=4.0.0 in /usr/local/lib/python3.10/dist-packages (from cookiecutter) (8.0.1)\n",
            "Requirement already satisfied: requests>=2.23.0 in /usr/local/lib/python3.10/dist-packages (from cookiecutter) (2.31.0)\n",
            "Requirement already satisfied: arrow in /usr/local/lib/python3.10/dist-packages (from cookiecutter) (1.2.3)\n",
            "Requirement already satisfied: rich in /usr/local/lib/python3.10/dist-packages (from cookiecutter) (13.5.2)\n",
            "Requirement already satisfied: chardet>=3.0.2 in /usr/local/lib/python3.10/dist-packages (from binaryornot>=0.4.4->cookiecutter) (5.2.0)\n",
            "Requirement already satisfied: MarkupSafe>=2.0 in /usr/local/lib/python3.10/dist-packages (from Jinja2<4.0.0,>=2.7->cookiecutter) (2.1.3)\n",
            "Requirement already satisfied: text-unidecode>=1.3 in /usr/local/lib/python3.10/dist-packages (from python-slugify>=4.0.0->cookiecutter) (1.3)\n",
            "Requirement already satisfied: charset-normalizer<4,>=2 in /usr/local/lib/python3.10/dist-packages (from requests>=2.23.0->cookiecutter) (3.2.0)\n",
            "Requirement already satisfied: idna<4,>=2.5 in /usr/local/lib/python3.10/dist-packages (from requests>=2.23.0->cookiecutter) (3.4)\n",
            "Requirement already satisfied: urllib3<3,>=1.21.1 in /usr/local/lib/python3.10/dist-packages (from requests>=2.23.0->cookiecutter) (2.0.4)\n",
            "Requirement already satisfied: certifi>=2017.4.17 in /usr/local/lib/python3.10/dist-packages (from requests>=2.23.0->cookiecutter) (2023.7.22)\n",
            "Requirement already satisfied: python-dateutil>=2.7.0 in /usr/local/lib/python3.10/dist-packages (from arrow->cookiecutter) (2.8.2)\n",
            "Requirement already satisfied: markdown-it-py>=2.2.0 in /usr/local/lib/python3.10/dist-packages (from rich->cookiecutter) (3.0.0)\n",
            "Requirement already satisfied: pygments<3.0.0,>=2.13.0 in /usr/local/lib/python3.10/dist-packages (from rich->cookiecutter) (2.16.1)\n",
            "Requirement already satisfied: mdurl~=0.1 in /usr/local/lib/python3.10/dist-packages (from markdown-it-py>=2.2.0->rich->cookiecutter) (0.1.2)\n",
            "Requirement already satisfied: six>=1.5 in /usr/local/lib/python3.10/dist-packages (from python-dateutil>=2.7.0->arrow->cookiecutter) (1.16.0)\n"
          ]
        }
      ]
    },
    {
      "cell_type": "code",
      "source": [
        "import pandas as pd\n",
        "from sklearn.model_selection import train_test_split\n",
        "from sklearn.preprocessing import StandardScaler\n",
        "from sklearn.linear_model import LogisticRegression\n",
        "from sklearn.metrics import roc_auc_score\n",
        "from sklearn.impute import SimpleImputer\n",
        "\n",
        "# Load the training and test datasets\n",
        "train_data = pd.read_csv('/content/train.csv', dtype={'yr': str})\n",
        "test_data = pd.read_csv('/content/test.csv', dtype={'yr': str})\n",
        "\n",
        "\n",
        "# Define features and target variable\n",
        "numeric_features = ['GP', 'Min_per', 'Ortg', 'usg', 'eFG', 'TS_per', 'ORB_per', 'DRB_per',\n",
        "                   'AST_per', 'TO_per', 'FTM', 'FTA', 'FT_per', 'twoPM', 'twoPA', 'twoP_per',\n",
        "                   'TPM', 'TPA', 'TP_per', 'blk_per', 'stl_per', 'ftr', 'porpag', 'adjoe',\n",
        "                   'Rec_Rank', 'ast_tov', 'rim_ratio', 'mid_ratio', 'dunks_ratio',\n",
        "                   'pick', 'drtg', 'adrtg', 'dporpag', 'stops', 'bpm', 'obpm', 'dbpm', 'gbpm',\n",
        "                   'mp', 'ogbpm', 'dgbpm', 'oreb', 'dreb', 'treb', 'ast', 'stl', 'blk', 'pts']\n",
        "\n",
        "target = 'drafted'\n"
      ],
      "metadata": {
        "colab": {
          "base_uri": "https://localhost:8080/"
        },
        "id": "0qFANDb8yG1K",
        "outputId": "9876fb02-10aa-43a2-d984-f11b11421ada"
      },
      "execution_count": 22,
      "outputs": [
        {
          "output_type": "stream",
          "name": "stderr",
          "text": [
            "<ipython-input-22-91f0afab424d>:9: DtypeWarning: Columns (26) have mixed types. Specify dtype option on import or set low_memory=False.\n",
            "  train_data = pd.read_csv('/content/train.csv', dtype={'yr': str})\n"
          ]
        }
      ]
    },
    {
      "cell_type": "markdown",
      "source": [
        "DATA SPLITTING"
      ],
      "metadata": {
        "id": "ooDSnklIztQT"
      }
    },
    {
      "cell_type": "markdown",
      "source": [
        "# Split data into features and target"
      ],
      "metadata": {
        "id": "SRA0rNHzAATh"
      }
    },
    {
      "cell_type": "code",
      "source": [
        "\n",
        "X = train_data[numeric_features]\n",
        "y = train_data[target]\n",
        "\n",
        "# Split data into training and validation sets\n",
        "X_train, X_val, y_train, y_val = train_test_split(X, y, test_size=0.2, random_state=42)\n",
        "\n"
      ],
      "metadata": {
        "id": "uutA8hdxzwzf"
      },
      "execution_count": 23,
      "outputs": []
    },
    {
      "cell_type": "markdown",
      "source": [
        "Initialize a SimpleImputer to fill missing values with the mean"
      ],
      "metadata": {
        "id": "RBaUNSgZALuZ"
      }
    },
    {
      "cell_type": "code",
      "source": [
        "\n",
        "imputer = SimpleImputer(strategy='mean')\n",
        "X_train_imputed = imputer.fit_transform(X_train)\n",
        "X_val_imputed = imputer.transform(X_val)\n",
        "\n",
        "# Preprocess numeric features using standard scaling\n",
        "scaler = StandardScaler()\n",
        "X_train_scaled = scaler.fit_transform(X_train_imputed)\n",
        "X_val_scaled = scaler.transform(X_val_imputed)"
      ],
      "metadata": {
        "id": "1GF-AQeZAGgd"
      },
      "execution_count": 24,
      "outputs": []
    },
    {
      "cell_type": "markdown",
      "source": [
        "Initialize and train a logistic regression model"
      ],
      "metadata": {
        "id": "x8XjyWCuyOXK"
      }
    },
    {
      "cell_type": "code",
      "source": [
        "model = LogisticRegression(random_state=44, max_iter=1000)  # or a higher value\n",
        "model.fit(X_train_scaled, y_train)\n",
        "\n",
        "# Predict probabilities on the validation set\n",
        "y_val_pred_prob = model.predict_proba(X_val_scaled)[:, 1]\n",
        "\n",
        "\n"
      ],
      "metadata": {
        "id": "KkV8QFdN0-jH"
      },
      "execution_count": 25,
      "outputs": []
    },
    {
      "cell_type": "markdown",
      "source": [
        "Calculating AUROC score"
      ],
      "metadata": {
        "id": "d54nmF1JAZB5"
      }
    },
    {
      "cell_type": "code",
      "source": [
        "\n",
        "auroc_score = roc_auc_score(y_val, y_val_pred_prob)\n",
        "print(f'AUROC Score: {auroc_score:.4f}')\n",
        "\n",
        "# Preprocess\n",
        "X_test = test_data[numeric_features]\n",
        "X_test_imputed = imputer.transform(X_test)\n",
        "X_test_scaled = scaler.transform(X_test_imputed)\n",
        "\n",
        "# Predict probabilities on the test set\n",
        "y_test_pred_prob = model.predict_proba(X_test_scaled)[:, 1]\n",
        "\n",
        "# submission file\n",
        "submission = pd.DataFrame({'player_id': test_data['player_id'], 'drafted': y_test_pred_prob})\n",
        "submission.to_csv('submission.csv', index=False)"
      ],
      "metadata": {
        "colab": {
          "base_uri": "https://localhost:8080/"
        },
        "id": "oojSuXV0AWZ3",
        "outputId": "d14122dd-b270-421a-fe96-ce1391c92023"
      },
      "execution_count": 26,
      "outputs": [
        {
          "output_type": "stream",
          "name": "stdout",
          "text": [
            "AUROC Score: 0.9891\n"
          ]
        }
      ]
    },
    {
      "cell_type": "markdown",
      "source": [
        "Plotting AUROC SCORE"
      ],
      "metadata": {
        "id": "iZ_0Cco1z22p"
      }
    },
    {
      "cell_type": "code",
      "source": [
        "import matplotlib.pyplot as plt\n",
        "from sklearn.metrics import roc_curve\n",
        "\n",
        "fpr, tpr, _ = roc_curve(y_val, y_val_pred_prob)\n",
        "\n",
        "# Plot AUROC curve\n",
        "plt.figure(figsize=(6, 4))\n",
        "plt.plot(fpr, tpr, color='blue', lw=2, label='AUROC curve (area = %0.4f)' % auroc_score)\n",
        "plt.plot([0, 1], [0, 1], color='red', linestyle='--')\n",
        "plt.xlim([0.0, 1.0])\n",
        "plt.ylim([0.0, 1.05])\n",
        "plt.xlabel('False Positive Rate')\n",
        "plt.ylabel('True Positive Rate')\n",
        "plt.title('Receiver Operating Characteristic')\n",
        "plt.legend(loc=\"lower right\")\n",
        "plt.show()\n"
      ],
      "metadata": {
        "colab": {
          "base_uri": "https://localhost:8080/",
          "height": 410
        },
        "id": "7VxRKxnO-Nhn",
        "outputId": "8b7b61e0-4313-4312-b268-18dcad906bc3"
      },
      "execution_count": 27,
      "outputs": [
        {
          "output_type": "display_data",
          "data": {
            "text/plain": [
              "<Figure size 600x400 with 1 Axes>"
            ],
            "image/png": "[encoded data removed]"
          },
          "metadata": {}
        }
      ]
    },
    {
      "cell_type": "markdown",
      "source": [
        "#Train a Random Forest Classifier"
      ],
      "metadata": {
        "id": "LZGRmurP_qwZ"
      }
    },
    {
      "cell_type": "markdown",
      "source": [
        "Initializing and training a Random Forest Classifier model"
      ],
      "metadata": {
        "id": "rlR2lm8VysDz"
      }
    },
    {
      "cell_type": "code",
      "source": [
        "from sklearn.ensemble import RandomForestClassifier\n",
        "\n",
        "\n",
        "rf_model = RandomForestClassifier(random_state=44)\n",
        "rf_model.fit(X_train_scaled, y_train)\n",
        "\n",
        "# Predict probabilities on the validation set\n",
        "y_val_rf_pred_prob = rf_model.predict_proba(X_val_scaled)[:, 1]\n",
        "\n",
        "# Calculate AUROC score for Random Forest model\n",
        "auroc_score_rf = roc_auc_score(y_val, y_val_rf_pred_prob)\n",
        "print(f'AUROC Score (Random Forest): {auroc_score_rf:.4f}')\n"
      ],
      "metadata": {
        "colab": {
          "base_uri": "https://localhost:8080/"
        },
        "id": "wJhvqqvH_bfm",
        "outputId": "1095a2cc-cd7d-427e-b754-a8dd78c71267"
      },
      "execution_count": 28,
      "outputs": [
        {
          "output_type": "stream",
          "name": "stdout",
          "text": [
            "AUROC Score (Random Forest): 0.9967\n"
          ]
        }
      ]
    },
    {
      "cell_type": "code",
      "source": [
        "print(f'AUROC Score (Logistic Regression): {auroc_score:.4f}')\n",
        "print(f'AUROC Score (Random Forest): {auroc_score_rf:.4f}')\n"
      ],
      "metadata": {
        "colab": {
          "base_uri": "https://localhost:8080/"
        },
        "id": "JS7p16r-_mnq",
        "outputId": "086c2e83-d437-4582-c322-31a55223ab90"
      },
      "execution_count": 29,
      "outputs": [
        {
          "output_type": "stream",
          "name": "stdout",
          "text": [
            "AUROC Score (Logistic Regression): 0.9891\n",
            "AUROC Score (Random Forest): 0.9967\n"
          ]
        }
      ]
    },
    {
      "cell_type": "markdown",
      "source": [
        "Computing ROC curve for Random Forest"
      ],
      "metadata": {
        "id": "XskTfo65BIGP"
      }
    },
    {
      "cell_type": "code",
      "source": [
        "\n",
        "fpr_rf, tpr_rf, _ = roc_curve(y_val, y_val_rf_pred_prob)\n",
        "\n",
        "# Plot AUROC curve for Random Forest\n",
        "plt.figure(figsize=(6, 4))\n",
        "plt.plot(fpr, tpr, color='blue', lw=2, label='Logistic Regression (AUROC = %0.4f)' % auroc_score)\n",
        "plt.plot(fpr_rf, tpr_rf, color='black', lw=2, label='Random Forest (AUROC = %0.4f)' % auroc_score_rf)\n",
        "plt.plot([0, 1], [0, 1], color='gray', linestyle='--')\n",
        "plt.xlim([0.0, 1.0])\n",
        "plt.ylim([0.0, 1.05])\n",
        "plt.xlabel('False Positive Rate')\n",
        "plt.ylabel('True Positive Rate')\n",
        "plt.title('Receiver Operating Characteristic')\n",
        "plt.legend(loc=\"lower right\")\n",
        "plt.show()\n"
      ],
      "metadata": {
        "colab": {
          "base_uri": "https://localhost:8080/",
          "height": 410
        },
        "id": "yryAKGgv__ln",
        "outputId": "6569173b-e93c-4db1-91df-9d59ca23dc7b"
      },
      "execution_count": 30,
      "outputs": [
        {
          "output_type": "display_data",
          "data": {
            "text/plain": [
              "<Figure size 600x400 with 1 Axes>"
            ],
            "image/png": "[encoded data removed]"
          },
          "metadata": {}
        }
      ]
    },
    {
      "cell_type": "code",
      "source": [
        "# Replace missing values in the test data\n",
        "X_test_cleaned = X_test.fillna(0)\n",
        "\n",
        "X_test_scaled = scaler.transform(X_test_cleaned)\n"
      ],
      "metadata": {
        "colab": {
          "base_uri": "https://localhost:8080/"
        },
        "id": "-dqGjs-bBGKf",
        "outputId": "7b635db3-daec-4990-800b-de925c9e2dcd"
      },
      "execution_count": 31,
      "outputs": [
        {
          "output_type": "stream",
          "name": "stderr",
          "text": [
            "/usr/local/lib/python3.10/dist-packages/sklearn/base.py:432: UserWarning: X has feature names, but StandardScaler was fitted without feature names\n",
            "  warnings.warn(\n"
          ]
        }
      ]
    },
    {
      "cell_type": "markdown",
      "source": [
        "predictions from the Random Forest model for each player"
      ],
      "metadata": {
        "id": "9bCDzQ1rGW5Z"
      }
    },
    {
      "cell_type": "code",
      "source": [
        "from sklearn.ensemble import RandomForestClassifier\n",
        "import pandas as pd"
      ],
      "metadata": {
        "id": "QEzuPEZEB7TW"
      },
      "execution_count": 32,
      "outputs": []
    },
    {
      "cell_type": "markdown",
      "source": [
        "Train the Random Forest model"
      ],
      "metadata": {
        "id": "28GwWDP4CBeq"
      }
    },
    {
      "cell_type": "code",
      "source": [
        "\n",
        "model_rf = RandomForestClassifier(n_estimators=100, random_state=44)\n",
        "model_rf.fit(X_train_scaled, y_train)\n",
        "\n",
        "# Predict probabilities on the test set\n",
        "y_test_pred_prob_rf = model_rf.predict_proba(X_test_scaled)[:, 1]\n",
        "\n",
        "# Create a DataFrame to hold player_id and predicted probabilities\n",
        "predictions_df = pd.DataFrame({'player_id': test_data['player_id'], 'drafted': y_test_pred_prob_rf})\n",
        "\n",
        "# Save to a CSV file\n",
        "predictions_df.to_csv('random_forest_predictions.csv', index=False)\n"
      ],
      "metadata": {
        "id": "rRmP-uOnGDC3"
      },
      "execution_count": 34,
      "outputs": []
    }
  ],
  "metadata": {
    "colab": {
      "provenance": [],
      "include_colab_link": true
    },
    "kernelspec": {
      "display_name": "Python 3",
      "name": "python3"
    }
  },
  "nbformat": 4,
  "nbformat_minor": 0
}